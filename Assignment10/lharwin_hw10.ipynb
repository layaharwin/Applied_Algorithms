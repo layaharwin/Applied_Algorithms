{
 "cells": [
  {
   "cell_type": "code",
   "execution_count": null,
   "id": "ca4718e3",
   "metadata": {},
   "outputs": [],
   "source": []
  },
  {
   "cell_type": "code",
   "execution_count": 172,
   "id": "1ba25d86",
   "metadata": {},
   "outputs": [
    {
     "name": "stdout",
     "output_type": "stream",
     "text": [
      "[['oranges', 'dogs', 'apples', 'cats'], ['peach', 'mango']]\n"
     ]
    }
   ],
   "source": [
    "# Question 1:\n",
    "\n",
    "def get_combined_list(syn_list):\n",
    "    visited=[]\n",
    "    output=[]\n",
    "    for i in range(0, len(syn_list)):\n",
    "        for j in range(0, len(syn_list[i])):\n",
    "            temp= syn_list[i][j]\n",
    "            out=[]\n",
    "            if temp in visited:\n",
    "                continue\n",
    "            elif temp not in visited:\n",
    "                output.append(helper_(temp,visited,syn_list,out, len(syn_list)))\n",
    "    return output\n",
    "\n",
    "def helper_(temp,visited,syn_list, out, length):\n",
    "    visited.append(temp)\n",
    "    out.append(temp)\n",
    "    dict_1={}\n",
    "    for i in range(length):\n",
    "        for j in range(len(syn_list[i])):\n",
    "            if temp in syn_list[i]:\n",
    "                if syn_list[i][j] in visited:\n",
    "                    dict_1[i]=j;\n",
    "                if syn_list[i][j] not in visited:\n",
    "                    helper_(syn_list[i][j],visited,syn_list,out, len(syn_list))\n",
    "    return out\n",
    "\n",
    "print(get_combined_list([['oranges','dogs', 'apples'],['peach', 'mango'],['dogs', 'cats']])) # [[’oranges’,’dogs’, ’apples’,’cats’],[’peach’,’mango’]])) \n"
   ]
  },
  {
   "cell_type": "code",
   "execution_count": 1,
   "id": "40b51cad",
   "metadata": {},
   "outputs": [
    {
     "name": "stdout",
     "output_type": "stream",
     "text": [
      "[[30, 40], [5, 10]]\n",
      "[[30, 40], [5, 10], [1, 2]]\n",
      "[]\n",
      "[]\n",
      "[]\n"
     ]
    }
   ],
   "source": [
    "# Question 2:\n",
    "\n",
    "def SymmetricPairs(Array_Pairs):\n",
    "    if len(Array_Pairs)<=1 :\n",
    "        return []\n",
    "    track={}\n",
    "    output=[]\n",
    "    count=0\n",
    "    for pairs in Array_Pairs:\n",
    "        if (len(pairs)==2):\n",
    "            if pairs[1] in track :\n",
    "                if pairs[0] in track[pairs[1]]:\n",
    "                    output.append([pairs[1],pairs[0]])\n",
    "                elif pairs[0] not in track[pairs[1]]:\n",
    "                    continue\n",
    "            elif pairs[1] not in track :\n",
    "                if pairs[0] not in track:\n",
    "                    track[pairs[0]]=[pairs[1]]\n",
    "                elif pairs[0] in track:\n",
    "                    track[pairs[0]].append(pairs[1])\n",
    "            else:\n",
    "                count+=1\n",
    "    return output\n",
    "\n",
    "print(SymmetricPairs([[11, 20], [30, 40], [5, 10], [40, 30], [10, 5]])) #output [[30,40],[10,5]]\n",
    "print(SymmetricPairs([[11, 20], [30, 40], [5, 10], [40, 30], [10, 5], [1,2], [2,1]]))\n",
    "print(SymmetricPairs([[11, 20], [40, 30], [10, 5]]))  #[] \n",
    "print(SymmetricPairs([[11,20]]))  #[] \n",
    "print(SymmetricPairs([[]]))  #[] "
   ]
  },
  {
   "cell_type": "code",
   "execution_count": 174,
   "id": "7a43a9ed",
   "metadata": {},
   "outputs": [
    {
     "name": "stdout",
     "output_type": "stream",
     "text": [
      "[4, 2]\n"
     ]
    }
   ],
   "source": [
    "# Question 3:\n",
    "def custom_dict(queries, values):\n",
    "    track={}\n",
    "    temp1= 0\n",
    "    temp2= 0\n",
    "    output=[]\n",
    "    j=0\n",
    "    for query in queries:\n",
    "        if query == 'Add':\n",
    "            key= values[j][0]-temp1\n",
    "            value= values[j][1]-temp2\n",
    "            track[key]=value\n",
    "        elif query == 'Add_to_keys':\n",
    "            temp1=temp1+values[j][0]\n",
    "        elif query == 'Add_to_vals':\n",
    "            temp2=temp2+values[j][0]\n",
    "        elif query == 'Return':\n",
    "            temp= track[values[j][0]-temp1]\n",
    "            temp=temp+temp2\n",
    "            output.append(temp)\n",
    "        j+=1 \n",
    "    return output\n",
    "\n",
    "print(custom_dict(['Add','Add_to_vals','Return','Add','Add_to_keys','Add_to_vals','Return'], [[1,2],[2],[1],[2,3],[1],[-1],[3]]))  #4,2    \n"
   ]
  },
  {
   "cell_type": "code",
   "execution_count": 175,
   "id": "37105470",
   "metadata": {},
   "outputs": [
    {
     "name": "stdout",
     "output_type": "stream",
     "text": [
      "['Nice', 'Ladakh', 'Prague', 'Berlin', 'London', 'Medellín', 'São Paulo']\n",
      "[]\n"
     ]
    }
   ],
   "source": [
    "# Question 4\n",
    "\n",
    "def get_travel_plan(cities , priorities):\n",
    "    temp1=[]\n",
    "    temp2=[]\n",
    "    visited=[]\n",
    "    track={}\n",
    "    out= []\n",
    "    k=0\n",
    "    for city in cities:\n",
    "        track[city]=[]\n",
    "    for i,j in priorities:\n",
    "        track[i].append(j)\n",
    "    for curr in track:\n",
    "        if curr not in visited:\n",
    "            if helper(curr,track,visited,temp1,temp2)== True:\n",
    "                return []\n",
    "            else:\n",
    "                continue\n",
    "    for city in cities:\n",
    "        if city not in temp1:\n",
    "            temp1.append(city)\n",
    "        else:\n",
    "            continue\n",
    "    for i in range(len(temp1)-1,-1,-1):\n",
    "        out.append(temp1[i])\n",
    "        k+=1\n",
    "    return list(out)\n",
    "\n",
    "def helper(curr,track,visited,temp1,temp2):\n",
    "    temp=-1\n",
    "    if curr in temp2:\n",
    "        temp=0\n",
    "        return True\n",
    "    if curr in visited:\n",
    "        temp=1\n",
    "        return False\n",
    "    visited.append(curr)\n",
    "    temp2.append(curr)\n",
    "    for t in track[curr]:\n",
    "        if helper(t,track,visited,temp1,temp2):\n",
    "                return True\n",
    "        else:\n",
    "            continue\n",
    "    temp1.append(curr)\n",
    "    temp2.remove(curr)\n",
    "    return False\n",
    "\n",
    "print(get_travel_plan(['London', 'Berlin', 'Medellín', 'São Paulo', 'Prague', 'Ladakh', 'Nice'] ,[('London', 'Medellín'), ('Medellín', 'São Paulo'), ('Prague', 'Berlin')]))\n",
    "print(get_travel_plan(['New York', 'Honolulu'], [('New York', 'Honolulu'), ('Honolulu', 'New York')])) # []\n",
    "#['Nice', 'Ladakh', 'Prague', 'Berlin', 'London', 'Medellín', 'São Paulo']\n"
   ]
  },
  {
   "cell_type": "code",
   "execution_count": null,
   "id": "396b49ed",
   "metadata": {},
   "outputs": [],
   "source": []
  },
  {
   "cell_type": "code",
   "execution_count": null,
   "id": "54b3f4fd",
   "metadata": {},
   "outputs": [],
   "source": []
  },
  {
   "cell_type": "code",
   "execution_count": null,
   "id": "139756da",
   "metadata": {},
   "outputs": [],
   "source": []
  }
 ],
 "metadata": {
  "kernelspec": {
   "display_name": "Python 3 (ipykernel)",
   "language": "python",
   "name": "python3"
  },
  "language_info": {
   "codemirror_mode": {
    "name": "ipython",
    "version": 3
   },
   "file_extension": ".py",
   "mimetype": "text/x-python",
   "name": "python",
   "nbconvert_exporter": "python",
   "pygments_lexer": "ipython3",
   "version": "3.9.12"
  }
 },
 "nbformat": 4,
 "nbformat_minor": 5
}
